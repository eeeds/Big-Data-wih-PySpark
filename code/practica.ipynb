{
 "cells": [
  {
   "cell_type": "code",
   "execution_count": 1,
   "id": "8689f3f1-428c-4641-9c4f-257eb71a9324",
   "metadata": {},
   "outputs": [],
   "source": [
    "from pyspark import SparkContext\n",
    "##Master − It is the URL of the cluster it connects to.\n",
    "##appName − Name of your job.\n",
    "sc = SparkContext(\"local\", \"First App\")"
   ]
  },
  {
   "cell_type": "code",
   "execution_count": 2,
   "id": "d5e9ef1c-3a92-42b3-8efa-3ae4987560bb",
   "metadata": {},
   "outputs": [
    {
     "name": "stdout",
     "output_type": "stream",
     "text": [
      "The version of Spark Context in the PySpark shell is 3.3.0\n",
      "The Python version of Spark Context in the PySpark shell is 3.10\n",
      "The master of Spark Context in the PySpark shell is local\n"
     ]
    }
   ],
   "source": [
    "# Print the version of SparkContext\n",
    "print(\"The version of Spark Context in the PySpark shell is\", sc.version)\n",
    "\n",
    "# Print the Python version of SparkContext\n",
    "print(\"The Python version of Spark Context in the PySpark shell is\", sc.pythonVer)\n",
    "\n",
    "# Print the master of SparkContext\n",
    "print(\"The master of Spark Context in the PySpark shell is\", sc.master)"
   ]
  },
  {
   "cell_type": "markdown",
   "id": "db4aadaa-6e42-4f7f-bb80-f0d54a7c65ec",
   "metadata": {
    "tags": []
   },
   "source": [
    "## Interactive Use of PySpark\n",
    "Spark comes with an interactive Python shell in which PySpark is already installed in it. PySpark shell is useful for basic testing and debugging and it is quite powerful. The easiest way to demonstrate the power of PySpark’s shell is to start using it. In this example, you'll load a simple list containing numbers ranging from 1 to 100 in the PySpark shell.\n",
    "\n",
    "The most important thing to understand here is that we are not creating any SparkContext object because PySpark automatically creates the SparkContext object named sc, by default in the PySpark shell."
   ]
  },
  {
   "cell_type": "code",
   "execution_count": 3,
   "id": "702ca792-3397-4751-bfa1-706f9178aae6",
   "metadata": {},
   "outputs": [],
   "source": [
    "#Create a Python list named numb containing the numbers 1 to 100.\n",
    "numb = range(1, 100)\n",
    "#Load the list into Spark using Spark Context's parallelize method and assign it to a variable spark_data.\n",
    "spark_data = sc.parallelize(numb)"
   ]
  },
  {
   "cell_type": "markdown",
   "id": "a864bf50-fab9-4eab-bd95-cabd87e7bc0e",
   "metadata": {
    "tags": []
   },
   "source": [
    "## Loading data in PySpark shell\n",
    "In PySpark, we express our computation through operations on distributed collections that are automatically parallelized across the cluster. In the previous exercise, you have seen an example of loading a list as parallelized collections and in this exercise, you'll load the data from a local file in PySpark shell.\n",
    "\n",
    "Remember you already have a SparkContext sc and file_path variable (which is the path to the README.md file) already available in your workspace.\n",
    "\n",
    "Load a local text file README.md in PySpark shell."
   ]
  },
  {
   "cell_type": "code",
   "execution_count": 8,
   "id": "dec426d7-2c5e-49dd-8ca8-65aa71afe398",
   "metadata": {},
   "outputs": [],
   "source": [
    "# Load a local file into PySpark shell\n",
    "file_path = 'README.txt'\n",
    "lines = sc.textFile(file_path)"
   ]
  },
  {
   "cell_type": "markdown",
   "id": "1687b5f5-1a39-4d2a-bbcc-08d77515ba2d",
   "metadata": {},
   "source": [
    "## Use of lambda() with map()\n",
    "The map() function in Python returns a list of the results after applying the given function to each item of a given iterable (list, tuple etc.). The general syntax of map() function is map(fun, iter). We can also use lambda functions with map(). The general syntax of map() function with lambda() is map(lambda <argument>:<expression>, iter). Refer to slide 5 of video 1.7 for general help of map() function with lambda().\n",
    "\n",
    "In this exercise, you'll be using lambda function inside the map() built-in function to square all numbers in the list.\n",
    "\n",
    "\n",
    "Print my_list which is available in your environment.\n",
    "Square each item in my_list using map() and lambda().\n",
    "Print the result of map function."
   ]
  },
  {
   "cell_type": "code",
   "execution_count": 10,
   "id": "087f1244-c32a-49a8-9122-3be481650dae",
   "metadata": {},
   "outputs": [
    {
     "name": "stdout",
     "output_type": "stream",
     "text": [
      "Input list is [1, 2, 3, 4, 5, 6, 7, 8, 9, 10]\n",
      "The squared numbers are [1, 4, 9, 16, 25, 36, 49, 64, 81, 100]\n"
     ]
    }
   ],
   "source": [
    "# Print my_list in the console\n",
    "my_list = [1, 2, 3, 4, 5, 6, 7, 8, 9, 10]\n",
    "print(\"Input list is\", my_list)\n",
    "\n",
    "# Square all numbers in my_list\n",
    "squared_list_lambda = list(map(lambda x: x**2, my_list))\n",
    "\n",
    "# Print the result of the map function\n",
    "print(\"The squared numbers are\", squared_list_lambda)"
   ]
  },
  {
   "cell_type": "markdown",
   "id": "2ed622d8-e757-48e0-8dde-d50d0b5770fa",
   "metadata": {},
   "source": [
    "## Use of lambda() with filter()\n",
    "Another function that is used extensively in Python is the filter() function. The filter() function in Python takes in a function and a list as arguments. The general syntax of the filter() function is filter(function, list_of_input). Similar to the map(), filter() can be used with lambda function. The general syntax of the filter() function with lambda() is filter(lambda <argument>:<expression>, list). Refer to slide 6 of video 1.7 for general help of the filter() function with lambda().\n",
    "\n",
    "In this exercise, you'll be using lambda() function inside the filter() built-in function to find all the numbers divisible by 10 in the list.\n",
    "\n",
    "Print my_list2 which is available in your environment.\n",
    "Filter the numbers divisible by 10 from my_list2 using filter() and lambda().\n",
    "Print the numbers divisible by 10 from my_list2."
   ]
  },
  {
   "cell_type": "code",
   "execution_count": 11,
   "id": "f049396d-51ed-4644-ab8a-0967e1b08b72",
   "metadata": {},
   "outputs": [
    {
     "name": "stdout",
     "output_type": "stream",
     "text": [
      "Input list is: [10, 21, 31, 40, 51, 60, 72, 80, 93, 101]\n",
      "Numbers divisible by 10 are: [10, 40, 60, 80]\n"
     ]
    }
   ],
   "source": [
    "my_list2 = [10, 21, 31, 40, 51, 60, 72, 80, 93, 101]\n",
    "# Print my_list2 in the console\n",
    "print(\"Input list is:\", my_list2)\n",
    "\n",
    "# Filter numbers divisible by 10\n",
    "filtered_list = list(filter(lambda x: (x%10 == 0), my_list2))\n",
    "\n",
    "# Print the numbers divisible by 10\n",
    "print(\"Numbers divisible by 10 are:\", filtered_list)"
   ]
  },
  {
   "cell_type": "code",
   "execution_count": null,
   "id": "5107993f-06f4-47c9-a533-a3081a7b42fe",
   "metadata": {},
   "outputs": [],
   "source": []
  }
 ],
 "metadata": {
  "kernelspec": {
   "display_name": "Python 3.10.1 64-bit",
   "language": "python",
   "name": "python3"
  },
  "language_info": {
   "codemirror_mode": {
    "name": "ipython",
    "version": 3
   },
   "file_extension": ".py",
   "mimetype": "text/x-python",
   "name": "python",
   "nbconvert_exporter": "python",
   "pygments_lexer": "ipython3",
   "version": "3.10.1"
  },
  "vscode": {
   "interpreter": {
    "hash": "afb734500600fd355917ca529030176ea0ca205570884b88f2f6f7d791fd3fbe"
   }
  }
 },
 "nbformat": 4,
 "nbformat_minor": 5
}
